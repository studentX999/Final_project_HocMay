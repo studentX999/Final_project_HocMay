{
 "cells": [
  {
   "cell_type": "code",
   "execution_count": 1,
   "id": "b288da44",
   "metadata": {},
   "outputs": [
    {
     "ename": "ModuleNotFoundError",
     "evalue": "No module named 'tensorflow'",
     "output_type": "error",
     "traceback": [
      "\u001b[1;31m---------------------------------------------------------------------------\u001b[0m",
      "\u001b[1;31mModuleNotFoundError\u001b[0m                       Traceback (most recent call last)",
      "Cell \u001b[1;32mIn[1], line 11\u001b[0m\n\u001b[0;32m      9\u001b[0m \u001b[38;5;28;01mfrom\u001b[39;00m \u001b[38;5;21;01msklearn\u001b[39;00m\u001b[38;5;21;01m.\u001b[39;00m\u001b[38;5;21;01mensemble\u001b[39;00m \u001b[38;5;28;01mimport\u001b[39;00m VotingClassifier\n\u001b[0;32m     10\u001b[0m \u001b[38;5;28;01mfrom\u001b[39;00m \u001b[38;5;21;01msklearn\u001b[39;00m\u001b[38;5;21;01m.\u001b[39;00m\u001b[38;5;21;01mmetrics\u001b[39;00m \u001b[38;5;28;01mimport\u001b[39;00m accuracy_score\n\u001b[1;32m---> 11\u001b[0m \u001b[38;5;28;01mimport\u001b[39;00m \u001b[38;5;21;01mtensorflow\u001b[39;00m \u001b[38;5;28;01mas\u001b[39;00m \u001b[38;5;21;01mtf\u001b[39;00m\n\u001b[0;32m     12\u001b[0m \u001b[38;5;28;01mfrom\u001b[39;00m \u001b[38;5;21;01mtensorflow\u001b[39;00m\u001b[38;5;21;01m.\u001b[39;00m\u001b[38;5;21;01mkeras\u001b[39;00m \u001b[38;5;28;01mimport\u001b[39;00m layers, models\n\u001b[0;32m     14\u001b[0m \u001b[38;5;66;03m# Đọc dữ liệu từ tập tin CSV\u001b[39;00m\n",
      "\u001b[1;31mModuleNotFoundError\u001b[0m: No module named 'tensorflow'"
     ]
    }
   ],
   "source": [
    "#List of students participated in this report:\n",
    "#52100896-Pham Gia Huy\n",
    "#52100844-Nguyen Thi Cam Thuy\n",
    "#52100243-Nguyen Tuan Kiet\n",
    "import pandas as pd\n",
    "from sklearn.preprocessing import LabelEncoder\n",
    "from sklearn.model_selection import train_test_split\n",
    "from sklearn.linear_model import LogisticRegression\n",
    "from sklearn.tree import DecisionTreeClassifier\n",
    "from sklearn.ensemble import RandomForestClassifier, GradientBoostingClassifier\n",
    "from sklearn.svm import SVC\n",
    "from sklearn.neighbors import KNeighborsClassifier\n",
    "from sklearn.ensemble import VotingClassifier\n",
    "from sklearn.metrics import accuracy_score\n",
    "import tensorflow as tf\n",
    "from tensorflow.keras import layers, models\n",
    "\n",
    "# Đọc dữ liệu từ tập tin CSV\n",
    "filename = 'car_evaluation.csv'\n",
    "data = pd.read_csv(filename)\n",
    "\n",
    "#Encode string features\n",
    "label_encoder = LabelEncoder()\n",
    "columns = ['buyingprice','maintenancecost','lug_boot','safety','decision']\n",
    "\n",
    "for column in data.columns:\n",
    "    if data[column].dtype == 'object':  # Check if the column contains string data\n",
    "        data[column] = label_encoder.fit_transform(data[column])\n",
    "\n",
    "# Load and preprocess data (replace 'X' and 'y' with your features and target variable)\n",
    "X = data.values[:,:-1]\n",
    "y = data.values[:,-1]\n",
    "X_train, X_test, y_train, y_test = train_test_split(X, y, test_size=0.2, random_state=42)\n"
   ]
  },
  {
   "cell_type": "code",
   "execution_count": null,
   "id": "9909dc02",
   "metadata": {},
   "outputs": [],
   "source": [
    "#OVERFITTING SOLUTIONS\n",
    "\n",
    "#Logistic Regression\n",
    "from sklearn.linear_model import LogisticRegressionCV\n",
    "\n",
    "# Sử dụng Logistic Regression với Cross-Validation để tìm giá trị tốt nhất cho siêu tham số C\n",
    "logistic_regression = LogisticRegressionCV(Cs=10, cv=5, random_state=42)\n",
    "logistic_regression.fit(X_train, y_train)\n",
    "\n",
    "#Decision Tree\n",
    "# Sử dụng cắt tỉa (pruning) để kiểm soát độ sâu của cây\n",
    "decision_tree = DecisionTreeClassifier(max_depth=5, random_state=42)\n",
    "decision_tree.fit(X_train, y_train)\n",
    "\n",
    "#Random Forest\n",
    "# Sử dụng cắt tỉa và giảm số lượng cây để kiểm soát độ phức tạp\n",
    "random_forest = RandomForestClassifier(n_estimators=100, max_depth=10, random_state=42)\n",
    "random_forest.fit(X_train, y_train)\n",
    "\n",
    "#Gradient Boosting\n",
    "# Sử dụng cắt tỉa, giảm số lượng cây và kiểm soát learning rate\n",
    "gradient_boosting = GradientBoostingClassifier(n_estimators=100, max_depth=5, learning_rate=0.1, random_state=42)\n",
    "gradient_boosting.fit(X_train, y_train)\n",
    "\n",
    "#SVM\n",
    "# Sử dụng kiểm soát giảm trọng số (C) và kernel có độ phức tạp thấp\n",
    "svm_model = SVC(C=1.0, kernel='linear', random_state=42)\n",
    "svm_model.fit(X_train, y_train)\n",
    "\n",
    "#KNN\n",
    "# Chọn giá trị k phù hợp để tránh hiện tượng overfitting\n",
    "knn_model = KNeighborsClassifier(n_neighbors=5)\n",
    "knn_model.fit(X_train, y_train)\n",
    "\n",
    "#FFNN\n",
    "# Sử dụng Dropout để ngăn chặn overfitting\n",
    "model_ffnn = models.Sequential([\n",
    "    layers.Dense(64, activation='relu', input_shape=(X_train.shape[1],)),\n",
    "    layers.Dropout(0.5),\n",
    "    layers.Dense(32, activation='relu'),\n",
    "    layers.Dense(4, activation='softmax')\n",
    "])\n",
    "\n",
    "model_ffnn.compile(optimizer='adam', loss='sparse_categorical_crossentropy', metrics=['accuracy'])\n",
    "model_ffnn.fit(X_train, y_train, epochs=10, batch_size=32, validation_split=0.2)\n"
   ]
  }
 ],
 "metadata": {
  "kernelspec": {
   "display_name": "Python 3 (ipykernel)",
   "language": "python",
   "name": "python3"
  },
  "language_info": {
   "codemirror_mode": {
    "name": "ipython",
    "version": 3
   },
   "file_extension": ".py",
   "mimetype": "text/x-python",
   "name": "python",
   "nbconvert_exporter": "python",
   "pygments_lexer": "ipython3",
   "version": "3.11.4"
  }
 },
 "nbformat": 4,
 "nbformat_minor": 5
}
