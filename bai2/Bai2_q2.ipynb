{
 "cells": [
  {
   "cell_type": "code",
   "execution_count": 1,
   "id": "a82199f9",
   "metadata": {},
   "outputs": [],
   "source": [
    "#List of students participated in this report:\n",
    "#52100896-Pham Gia Huy\n",
    "#52100844-Nguyen Thi Cam Thuy\n",
    "#52100243-Nguyen Tuan Kiet\n",
    "import pandas as pd\n",
    "from sklearn.preprocessing import LabelEncoder\n",
    "from sklearn.model_selection import train_test_split\n",
    "from sklearn.linear_model import LogisticRegression\n",
    "from sklearn.tree import DecisionTreeClassifier\n",
    "from sklearn.ensemble import RandomForestClassifier, GradientBoostingClassifier\n",
    "from sklearn.svm import SVC\n",
    "from sklearn.neighbors import KNeighborsClassifier\n",
    "from sklearn.ensemble import VotingClassifier\n",
    "from sklearn.metrics import accuracy_score\n",
    "\n",
    "# Đọc dữ liệu từ tập tin CSV\n",
    "filename = 'car_evaluation.csv'\n",
    "data = pd.read_csv(filename)\n",
    "\n",
    "#Encode string features\n",
    "label_encoder = LabelEncoder()\n",
    "columns = ['buyingprice','maintenancecost','lug_boot','safety','decision']\n",
    "\n",
    "for column in data.columns:\n",
    "    if data[column].dtype == 'object':  # Check if the column contains string data\n",
    "        data[column] = label_encoder.fit_transform(data[column])\n",
    "\n",
    "# Load and preprocess data (replace 'X' and 'y' with your features and target variable)\n",
    "X = data.values[:,:-1]\n",
    "y = data.values[:,-1]\n",
    "X_train, X_test, y_train, y_test = train_test_split(X, y, test_size=0.2, random_state=42)"
   ]
  },
  {
   "cell_type": "code",
   "execution_count": 2,
   "id": "a2892ac9",
   "metadata": {},
   "outputs": [
    {
     "name": "stdout",
     "output_type": "stream",
     "text": [
      "Logistic Regression: Accuracy : 0.6590\n",
      "Decision Tree: Accuracy : 0.9682\n",
      "Random Forest: Accuracy : 0.9653\n",
      "Gradient Boosting: Accuracy : 0.9653\n",
      "SVM: Accuracy : 0.9133\n",
      "k-Nearest Neighbors: Accuracy : 0.8873\n"
     ]
    }
   ],
   "source": [
    "# Initialize and train models\n",
    "models = {\n",
    "    'Logistic Regression': LogisticRegression(),\n",
    "    'Decision Tree': DecisionTreeClassifier(),\n",
    "    'Random Forest': RandomForestClassifier(),\n",
    "    'Gradient Boosting': GradientBoostingClassifier(),\n",
    "    'SVM': SVC(),\n",
    "    'k-Nearest Neighbors': KNeighborsClassifier()\n",
    "}\n",
    "\n",
    "for name, model in models.items():\n",
    "    model.fit(X_train, y_train)\n",
    "    y_pred = model.predict(X_test)\n",
    "    accuracy = accuracy_score(y_test, y_pred)\n",
    "    print(f\"{name}: Accuracy : {accuracy:.4f}\")"
   ]
  },
  {
   "cell_type": "code",
   "execution_count": 3,
   "id": "b7e4390d",
   "metadata": {},
   "outputs": [
    {
     "name": "stdout",
     "output_type": "stream",
     "text": [
      "Ensemble Model (Voting): Accuracy : 0.9653\n"
     ]
    }
   ],
   "source": [
    "# Create a VotingClassifier\n",
    "ensemble_model = VotingClassifier(estimators=list(models.items()), voting='hard')\n",
    "\n",
    "# Train the ensemble model\n",
    "ensemble_model.fit(X_train, y_train)\n",
    "\n",
    "# Make predictions\n",
    "ensemble_pred = ensemble_model.predict(X_test)\n",
    "\n",
    "# Evaluate the ensemble model\n",
    "ensemble_accuracy = accuracy_score(y_test, ensemble_pred)\n",
    "print(f\"Ensemble Model (Voting): Accuracy : {ensemble_accuracy:.4f}\")"
   ]
  },
  {
   "cell_type": "code",
   "execution_count": null,
   "id": "428c8627",
   "metadata": {},
   "outputs": [],
   "source": []
  }
 ],
 "metadata": {
  "kernelspec": {
   "display_name": "Python 3 (ipykernel)",
   "language": "python",
   "name": "python3"
  },
  "language_info": {
   "codemirror_mode": {
    "name": "ipython",
    "version": 3
   },
   "file_extension": ".py",
   "mimetype": "text/x-python",
   "name": "python",
   "nbconvert_exporter": "python",
   "pygments_lexer": "ipython3",
   "version": "3.11.4"
  }
 },
 "nbformat": 4,
 "nbformat_minor": 5
}
