{
 "cells": [
  {
   "cell_type": "code",
   "execution_count": 1,
   "id": "db288db3",
   "metadata": {},
   "outputs": [
    {
     "ename": "ModuleNotFoundError",
     "evalue": "No module named 'tensorflow'",
     "output_type": "error",
     "traceback": [
      "\u001b[1;31m---------------------------------------------------------------------------\u001b[0m",
      "\u001b[1;31mModuleNotFoundError\u001b[0m                       Traceback (most recent call last)",
      "Cell \u001b[1;32mIn[1], line 1\u001b[0m\n\u001b[1;32m----> 1\u001b[0m \u001b[38;5;28;01mimport\u001b[39;00m \u001b[38;5;21;01mtensorflow\u001b[39;00m \u001b[38;5;28;01mas\u001b[39;00m \u001b[38;5;21;01mtf\u001b[39;00m\n\u001b[0;32m      2\u001b[0m \u001b[38;5;28;01mfrom\u001b[39;00m \u001b[38;5;21;01mtensorflow\u001b[39;00m\u001b[38;5;21;01m.\u001b[39;00m\u001b[38;5;21;01mkeras\u001b[39;00m \u001b[38;5;28;01mimport\u001b[39;00m layers, models\n\u001b[0;32m      3\u001b[0m \u001b[38;5;28;01mimport\u001b[39;00m \u001b[38;5;21;01mpandas\u001b[39;00m \u001b[38;5;28;01mas\u001b[39;00m \u001b[38;5;21;01mpd\u001b[39;00m\n",
      "\u001b[1;31mModuleNotFoundError\u001b[0m: No module named 'tensorflow'"
     ]
    }
   ],
   "source": [
    "\n",
    "#List of students participated in this report:\n",
    "#52100896-Pham Gia Huy\n",
    "#52100844-Nguyen Thi Cam Thuy\n",
    "#52100243-Nguyen Tuan Kiet\n",
    "import tensorflow as tf\n",
    "from tensorflow.keras import layers, models\n",
    "import pandas as pd\n",
    "from sklearn.preprocessing import LabelEncoder\n",
    "from sklearn.model_selection import train_test_split\n",
    "\n",
    "#Sử dụng mô hình từ question 3\n",
    "\n",
    "# Đọc dữ liệu từ tập tin CSV\n",
    "filename = 'car_evaluation.csv'\n",
    "data = pd.read_csv(filename)\n",
    "\n",
    "#Encode string features\n",
    "label_encoder = LabelEncoder()\n",
    "columns = ['buyingprice','maintenancecost','lug_boot','safety','decision']\n",
    "\n",
    "for column in data.columns:\n",
    "    if data[column].dtype == 'object':\n",
    "        data[column] = label_encoder.fit_transform(data[column])\n",
    "\n",
    "# Load and preprocess data\n",
    "X = data.values[:,:-1]\n",
    "y = data.values[:,-1]\n",
    "X_train, X_test, y_train, y_test = train_test_split(X, y, test_size=0.2, random_state=42)\n"
   ]
  },
  {
   "cell_type": "code",
   "execution_count": null,
   "id": "d46e0978",
   "metadata": {},
   "outputs": [],
   "source": [
    "# Huấn luyện mô hình ban đầu\n",
    "model_ffnn = models.Sequential([\n",
    "    layers.Dense(64, activation='relu', input_shape=(X_train.shape[1],)),\n",
    "    layers.Dense(32, activation='relu'),\n",
    "    layers.Dense(4, activation='softmax')\n",
    "])\n",
    "\n",
    "model_ffnn.compile(optimizer='adam', loss='sparse_categorical_crossentropy', metrics=['accuracy'])\n",
    "model_ffnn.fit(X_train, y_train, epochs=10, batch_size=32, validation_split=0.2)\n",
    "\n",
    "# Đánh giá mô hình ban đầu\n",
    "accuracy_before = model_ffnn.evaluate(X_test, y_test)[1]\n",
    "print(f\"Accuracy before improvement: {accuracy_before:.4f}\")\n",
    "\n",
    "# Phân tích các trường hợp sai\n",
    "y_pred = model_ffnn.predict(X_test)\n",
    "y_pred_classes = y_pred.argmax(axis=-1)\n",
    "misclassified_indices = (y_pred_classes != y_test)\n",
    "\n",
    "misclassified_X = X_test[misclassified_indices]\n",
    "misclassified_y_true = y_test[misclassified_indices]\n",
    "misclassified_y_pred = y_pred_classes[misclassified_indices]\n",
    "\n",
    "# Hiển thị một số ví dụ về trường hợp sai\n",
    "for i in range(min(5, len(misclassified_X))):\n",
    "    print(f\"True label: {misclassified_y_true[i]}, Predicted label: {misclassified_y_pred[i]}\")\n",
    "    print(f\"Features: {misclassified_X[i]}\")\n",
    "\n",
    "# Cải tiến mô hình và đánh giá\n",
    "model_ffnn_optimized = models.Sequential([\n",
    "    layers.Dense(128, activation='relu', input_shape=(X_train.shape[1],)),\n",
    "    layers.Dropout(0.5),\n",
    "    layers.Dense(64, activation='relu'),\n",
    "    layers.Dense(4, activation='softmax')\n",
    "])\n",
    "\n",
    "model_ffnn_optimized.compile(optimizer='adam', loss='sparse_categorical_crossentropy', metrics=['accuracy'])\n",
    "model_ffnn_optimized.fit(X_train, y_train, epochs=15, batch_size=64, validation_split=0.2)\n",
    "\n",
    "# Đánh giá mô hình cải tiến\n",
    "accuracy_after = model_ffnn_optimized.evaluate(X_test, y_test)[1]\n",
    "print(f\"Accuracy after improvement: {accuracy_after:.4f}\")"
   ]
  }
 ],
 "metadata": {
  "kernelspec": {
   "display_name": "Python 3 (ipykernel)",
   "language": "python",
   "name": "python3"
  },
  "language_info": {
   "codemirror_mode": {
    "name": "ipython",
    "version": 3
   },
   "file_extension": ".py",
   "mimetype": "text/x-python",
   "name": "python",
   "nbconvert_exporter": "python",
   "pygments_lexer": "ipython3",
   "version": "3.11.4"
  }
 },
 "nbformat": 4,
 "nbformat_minor": 5
}
